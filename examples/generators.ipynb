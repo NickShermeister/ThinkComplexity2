{
 "cells": [
  {
   "cell_type": "markdown",
   "metadata": {},
   "source": [
    "# Generator functions\n",
    "\n",
    "Code examples from [Think Complexity, 2nd edition](https://thinkcomplex.com).\n",
    "\n",
    "Copyright 2019 Allen Downey, [MIT License](http://opensource.org/licenses/MIT)"
   ]
  },
  {
   "cell_type": "code",
   "execution_count": 3,
   "metadata": {},
   "outputs": [],
   "source": [
    "%matplotlib inline\n",
    "\n",
    "import networkx as nx\n",
    "import numpy as np\n",
    "\n",
    "# TODO: remove this when NetworkX is fixed\n",
    "from warnings import simplefilter\n",
    "import matplotlib.cbook\n",
    "simplefilter(\"ignore\", matplotlib.cbook.mplDeprecation)"
   ]
  },
  {
   "cell_type": "markdown",
   "metadata": {},
   "source": [
    "**Exercise:** In  the  book  I  wrote  a  version  of `random_pairs` that  violates  Ned’s  recommendation  to “abstract your iteration”:"
   ]
  },
  {
   "cell_type": "code",
   "execution_count": 4,
   "metadata": {},
   "outputs": [],
   "source": [
    "def flip(p):\n",
    "    return np.random.random() < p"
   ]
  },
  {
   "cell_type": "code",
   "execution_count": 5,
   "metadata": {},
   "outputs": [],
   "source": [
    "def all_pairs(nodes):\n",
    "    for i, u in enumerate(nodes):\n",
    "        for j, v in enumerate(nodes):\n",
    "            if i < j:\n",
    "                yield u, v"
   ]
  },
  {
   "cell_type": "code",
   "execution_count": 6,
   "metadata": {},
   "outputs": [],
   "source": [
    "def random_pairs(nodes, p):\n",
    "    for i, u in enumerate(nodes):\n",
    "        for j, v in enumerate(nodes):\n",
    "            if i < j and flip(p):\n",
    "                yield u, v"
   ]
  },
  {
   "cell_type": "code",
   "execution_count": 7,
   "metadata": {},
   "outputs": [],
   "source": [
    "nodes = range(4)"
   ]
  },
  {
   "cell_type": "code",
   "execution_count": 8,
   "metadata": {},
   "outputs": [
    {
     "name": "stdout",
     "output_type": "stream",
     "text": [
      "(0, 1)\n",
      "(0, 2)\n",
      "(0, 3)\n",
      "(1, 2)\n",
      "(1, 3)\n",
      "(2, 3)\n"
     ]
    }
   ],
   "source": [
    "for pair in all_pairs(nodes):\n",
    "    print(pair)"
   ]
  },
  {
   "cell_type": "code",
   "execution_count": 9,
   "metadata": {},
   "outputs": [
    {
     "name": "stdout",
     "output_type": "stream",
     "text": [
      "(0, 1)\n",
      "(1, 3)\n"
     ]
    }
   ],
   "source": [
    "for pair in random_pairs(nodes, 0.5):\n",
    "    print(pair)"
   ]
  },
  {
   "cell_type": "markdown",
   "metadata": {},
   "source": [
    "Write a better version of this function that *uses* `all_pairs` rather than copying and modifying it."
   ]
  },
  {
   "cell_type": "code",
   "execution_count": 10,
   "metadata": {},
   "outputs": [],
   "source": [
    "# Solution goes here\n",
    "def random_pairs(nodes, p):\n",
    "    for x in all_pairs(nodes):\n",
    "        if flip(p):\n",
    "            yield x"
   ]
  },
  {
   "cell_type": "code",
   "execution_count": 18,
   "metadata": {},
   "outputs": [
    {
     "name": "stdout",
     "output_type": "stream",
     "text": [
      "(0, 2)\n",
      "(1, 2)\n",
      "(1, 3)\n",
      "(2, 3)\n"
     ]
    }
   ],
   "source": [
    "for pair in random_pairs(nodes, 0.5):\n",
    "    print(pair)"
   ]
  },
  {
   "cell_type": "markdown",
   "metadata": {},
   "source": [
    "**Exercise:**  Write a function called `random_tree` that takes a number of nodes, `n`, as a parameter and builds an undirected graph by starting with a single node, adding one node at a time, and connecting each new node to one existing node. You can use any of the functions in Python’s `random` module."
   ]
  },
  {
   "cell_type": "code",
   "execution_count": 82,
   "metadata": {},
   "outputs": [],
   "source": [
    "# Solution goes here\n",
    "import random\n",
    "def make_random_tree(n):\n",
    "    G = nx.Graph()\n",
    "    if n == 0:\n",
    "        return G\n",
    "    \n",
    "    G.add_node(0)\n",
    "    for x in range(1, n):\n",
    "        rand_other = random.randint(0, x-1)\n",
    "        G.add_edge(x, rand_other)\n",
    "    return G"
   ]
  },
  {
   "cell_type": "code",
   "execution_count": 83,
   "metadata": {},
   "outputs": [
    {
     "data": {
      "text/plain": [
       "NodeView((0, 1, 2, 3, 4, 5, 6, 7, 8, 9))"
      ]
     },
     "execution_count": 83,
     "metadata": {},
     "output_type": "execute_result"
    }
   ],
   "source": [
    "tree = make_random_tree(10)\n",
    "tree.nodes()"
   ]
  },
  {
   "cell_type": "code",
   "execution_count": 84,
   "metadata": {},
   "outputs": [
    {
     "data": {
      "image/png": "[encoded data removed]",
      "text/plain": [
       "<Figure size 432x288 with 1 Axes>"
      ]
     },
     "metadata": {},
     "output_type": "display_data"
    }
   ],
   "source": [
    "nx.draw(tree, \n",
    "        node_color='C0', \n",
    "        node_size=1000, \n",
    "        with_labels=True)"
   ]
  },
  {
   "cell_type": "markdown",
   "metadata": {},
   "source": [
    "**Bonus:** Read the various equivalent definitions of tree and then write a function called `is_tree` that takes a graph and returns `True` if the graph is a tree."
   ]
  },
  {
   "cell_type": "code",
   "execution_count": 95,
   "metadata": {},
   "outputs": [
    {
     "name": "stdout",
     "output_type": "stream",
     "text": [
      "True\n"
     ]
    }
   ],
   "source": [
    "def is_tree(G):\n",
    "    if not nx.is_connected(G):\n",
    "        return False\n",
    "    \n",
    "    n = nx.number_of_nodes(G)\n",
    "    m = nx.number_of_edges(G)\n",
    "    \n",
    "    return m == n-1\n",
    "    \n",
    "#     visited = set()\n",
    "#     all_nodes = G.nodes()\n",
    "#     print(all_nodes)\n",
    "#     print(all_nodes[0])\n",
    "#     visited = [all_nodes[0]]\n",
    "#     neighs = G.neighbors(all_nodes[0])\n",
    "#     print(neighs)\n",
    "#     tovisit = None\n",
    "#     while tovisit:\n",
    "#         curr = tovisit.pop()\n",
    "#         for y in G.neighbors(curr):\n",
    "#             if y in visited:\n",
    "#                 return False\n",
    "#             else:\n",
    "#                 tovisit.add(y)\n",
    "#     return True\n",
    "            \n",
    "print(is_tree(tree))"
   ]
  },
  {
   "cell_type": "markdown",
   "metadata": {},
   "source": [
    "**Exercise:** Write a function called `all_triangles` that takes an undirected graph as a parameter and returns all triangles, where a triangle is a collection of three nodes that are connected to each other (regardless of whether they are also connected to other nodes). Your solution can be an ordinary function that returns a list of tuples, or a generator function that yields tuples.  It does not have to be particularly efficient. It’s OK if your solution finds the same triangle more than once, but as a bonus challenge, write a solution that avoids it."
   ]
  },
  {
   "cell_type": "code",
   "execution_count": 112,
   "metadata": {},
   "outputs": [],
   "source": [
    "# Solution goes here\n",
    "def all_triangles(G):\n",
    "    all_triang = set()\n",
    "    for x in G.edges():\n",
    "        for y in set(G.neighbors(x[1])) & set(G.neighbors(x[0])): \n",
    "            tup = tuple(sorted((x[0], x[1], y))) \n",
    "            if (tup not in all_triang):\n",
    "                all_triang.add(tup)\n",
    "                yield tup"
   ]
  },
  {
   "cell_type": "code",
   "execution_count": 14,
   "metadata": {},
   "outputs": [],
   "source": [
    "# Solution goes here"
   ]
  },
  {
   "cell_type": "code",
   "execution_count": 27,
   "metadata": {},
   "outputs": [],
   "source": [
    "def make_complete_graph(n):\n",
    "    G = nx.Graph()\n",
    "    nodes = range(n)\n",
    "    G.add_nodes_from(nodes)\n",
    "    G.add_edges_from(all_pairs(nodes))\n",
    "    return G"
   ]
  },
  {
   "cell_type": "code",
   "execution_count": 67,
   "metadata": {},
   "outputs": [
    {
     "data": {
      "text/plain": [
       "NodeView((0, 1, 2, 3))"
      ]
     },
     "execution_count": 67,
     "metadata": {},
     "output_type": "execute_result"
    }
   ],
   "source": [
    "complete = make_complete_graph(4)\n",
    "complete.nodes()"
   ]
  },
  {
   "cell_type": "code",
   "execution_count": 29,
   "metadata": {},
   "outputs": [
    {
     "data": {
      "image/png": "[encoded data removed]",
      "text/plain": [
       "<Figure size 432x288 with 1 Axes>"
      ]
     },
     "metadata": {},
     "output_type": "display_data"
    }
   ],
   "source": [
    "nx.draw_circular(complete, \n",
    "                 node_color='C1', \n",
    "                 node_size=1000, \n",
    "                 with_labels=True)"
   ]
  },
  {
   "cell_type": "code",
   "execution_count": 113,
   "metadata": {},
   "outputs": [
    {
     "name": "stdout",
     "output_type": "stream",
     "text": [
      "(0, 1, 2)\n",
      "(0, 1, 3)\n",
      "(0, 2, 3)\n",
      "(1, 2, 3)\n"
     ]
    }
   ],
   "source": [
    "for tri in all_triangles(complete):\n",
    "    print(tri)"
   ]
  },
  {
   "cell_type": "code",
   "execution_count": 66,
   "metadata": {},
   "outputs": [],
   "source": [
    "for tri in all_triangles(tree):\n",
    "    print(tri)"
   ]
  },
  {
   "cell_type": "code",
   "execution_count": 9,
   "metadata": {},
   "outputs": [
    {
     "name": "stdout",
     "output_type": "stream",
     "text": [
      "[6, 9, 12]\n"
     ]
    }
   ],
   "source": [
    "def rolling_sum(t,k):\n",
    "    final_sum = []\n",
    "    for x in range(len(t)-k + 1):\n",
    "        temp_sum = 0\n",
    "        for y in range(x, x+k):\n",
    "            temp_sum += t[y]\n",
    "        final_sum.append(temp_sum)\n",
    "        \n",
    "    return final_sum\n",
    "\n",
    "temp = [1, 2, 3, 4, 5]\n",
    "k = 3\n",
    "print(rolling_sum(temp,k))"
   ]
  },
  {
   "cell_type": "code",
   "execution_count": null,
   "metadata": {},
   "outputs": [],
   "source": [
    "def cross_edges(G,top):\n",
    "    \n"
   ]
  }
 ],
 "metadata": {
  "kernelspec": {
   "display_name": "Python 3",
   "language": "python",
   "name": "python3"
  },
  "language_info": {
   "codemirror_mode": {
    "name": "ipython",
    "version": 3
   },
   "file_extension": ".py",
   "mimetype": "text/x-python",
   "name": "python",
   "nbconvert_exporter": "python",
   "pygments_lexer": "ipython3",
   "version": "3.7.4"
  }
 },
 "nbformat": 4,
 "nbformat_minor": 2
}
